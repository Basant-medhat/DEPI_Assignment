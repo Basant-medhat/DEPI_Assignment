{
  "cells": [
    {
      "cell_type": "markdown",
      "metadata": {
        "id": "RTd12e231Ga0"
      },
      "source": [
        "## Python Task 3"
      ]
    },
    {
      "cell_type": "markdown",
      "metadata": {
        "id": "jnFmx4gl1Ga4"
      },
      "source": [
        "### Question: Count Vowels in a String\n",
        "\n",
        "**Description:** Write a function named count_vowels that takes a string as an argument and returns the count of vowels (a, e, i, o, u) in the string.\n",
        "\n",
        "The function should be case-insensitive, counting both uppercase and lowercase vowels.\n"
      ]
    },
    {
      "cell_type": "code",
      "execution_count": null,
      "metadata": {
        "id": "-1TvV4n91Ga6"
      },
      "outputs": [],
      "source": [
        "'''\n",
        "# Example Input:\n",
        "text = \"Hello World\"\n",
        "# Expected Output:\n",
        "3\n",
        "'''\n"
      ]
    },
    {
      "cell_type": "code",
      "execution_count": 1,
      "metadata": {
        "id": "SZFcuLUJ1Ga9"
      },
      "outputs": [],
      "source": [
        "def count_vowels(text):\n",
        "    vowels = \"aeiouAEIOU\"\n",
        "    count = 0\n",
        "    for char in text:\n",
        "        if char in vowels:\n",
        "            count += 1\n",
        "    return count"
      ]
    },
    {
      "cell_type": "code",
      "source": [
        "print(count_vowels(\"Hello World\"))"
      ],
      "metadata": {
        "colab": {
          "base_uri": "https://localhost:8080/"
        },
        "id": "oC8QjGNZ1XVe",
        "outputId": "98903e92-136a-4efd-8f22-4f93f39255a3"
      },
      "execution_count": 2,
      "outputs": [
        {
          "output_type": "stream",
          "name": "stdout",
          "text": [
            "3\n"
          ]
        }
      ]
    },
    {
      "cell_type": "markdown",
      "metadata": {
        "id": "Oiiig-nS1Ga9"
      },
      "source": [
        "### Question: Find the Maximum Value in a List Using a Function\n",
        "Description: Write a function named find_max that takes a list of integers as an argument and returns the maximum value in the list.\n",
        "\n",
        "Do not use Python’s built-in max() function. The function should handle cases where the list is empty by returning None.\n"
      ]
    },
    {
      "cell_type": "code",
      "execution_count": null,
      "metadata": {
        "id": "YiyV3uYV1Ga_"
      },
      "outputs": [],
      "source": [
        "'''\n",
        "# Example Input:\n",
        "numbers = [3, 5, 2, 8, 1]\n",
        "# Expected Output:\n",
        "8\n",
        "'''"
      ]
    },
    {
      "cell_type": "code",
      "source": [
        "def find_max(numbers):\n",
        "    if not numbers:\n",
        "        return None\n",
        "    max_value = numbers[0]\n",
        "    for num in numbers[1:]:\n",
        "        if num > max_value:\n",
        "            max_value = num\n",
        "    return max_value"
      ],
      "metadata": {
        "id": "ULXh4fsi2xh0"
      },
      "execution_count": 6,
      "outputs": []
    },
    {
      "cell_type": "code",
      "source": [
        "list =input(\"enter list number\")\n",
        "print(\"maximum  number= \",find_max(list))"
      ],
      "metadata": {
        "colab": {
          "base_uri": "https://localhost:8080/"
        },
        "id": "je8NU5QL2TYf",
        "outputId": "95a9153b-365e-46b1-faf4-e66093692cc4"
      },
      "execution_count": 9,
      "outputs": [
        {
          "output_type": "stream",
          "name": "stdout",
          "text": [
            "enter list number3,5,2,8,1\n",
            "maximum  number=  8\n"
          ]
        }
      ]
    }
  ],
  "metadata": {
    "kernelspec": {
      "display_name": "base",
      "language": "python",
      "name": "python3"
    },
    "language_info": {
      "codemirror_mode": {
        "name": "ipython",
        "version": 3
      },
      "file_extension": ".py",
      "mimetype": "text/x-python",
      "name": "python",
      "nbconvert_exporter": "python",
      "pygments_lexer": "ipython3",
      "version": "3.11.5"
    },
    "colab": {
      "provenance": []
    }
  },
  "nbformat": 4,
  "nbformat_minor": 0
}