{
  "nbformat": 4,
  "nbformat_minor": 0,
  "metadata": {
    "colab": {
      "provenance": []
    },
    "kernelspec": {
      "name": "python3",
      "display_name": "Python 3"
    },
    "language_info": {
      "name": "python"
    }
  },
  "cells": [
    {
      "cell_type": "code",
      "execution_count": 1,
      "metadata": {
        "id": "MKlVQAlKXn6-"
      },
      "outputs": [],
      "source": [
        "import pandas as pd\n",
        "import seaborn as sns\n",
        "import matplotlib.pyplot as plt\n",
        "import numpy as np\n",
        "import sqlite3\n",
        "\n"
      ]
    },
    {
      "cell_type": "code",
      "source": [
        "conn=sqlite3.connect(\"C:\\\\Users\\\\fatem\\\\Downloads\\\\travel.sqlite\\\\travel.sqlite\")"
      ],
      "metadata": {
        "id": "bls3TBnsaNV_"
      },
      "execution_count": null,
      "outputs": []
    },
    {
      "cell_type": "code",
      "source": [
        "tables=pd.read_sql(\"SELECT * from sqlite_master where type='table';\", conn)\n",
        "tables"
      ],
      "metadata": {
        "id": "T0lenHYVab4K"
      },
      "execution_count": null,
      "outputs": []
    },
    {
      "cell_type": "code",
      "source": [
        "pd.read_sql(\"SELECT * from aircrafts_data;\", conn)"
      ],
      "metadata": {
        "id": "RsjGojvNbCAx"
      },
      "execution_count": null,
      "outputs": []
    },
    {
      "cell_type": "code",
      "source": [
        "pd.read_sql(\"SELECT * from bookings LIMIT 20;\", conn)"
      ],
      "metadata": {
        "id": "9iJO9IBWbPeV"
      },
      "execution_count": null,
      "outputs": []
    },
    {
      "cell_type": "code",
      "source": [
        "pd.read_sql(\"SELECT * from flights LIMIT 20;\", conn)"
      ],
      "metadata": {
        "id": "SFts7BUCbdTd"
      },
      "execution_count": null,
      "outputs": []
    },
    {
      "cell_type": "code",
      "source": [
        "pd.read_sql(\"SELECT * from airports_data LIMIT 20;\", conn)"
      ],
      "metadata": {
        "id": "url77TVLbdWt"
      },
      "execution_count": null,
      "outputs": []
    },
    {
      "cell_type": "code",
      "source": [
        "pd.read_sql(\"SELECT * from tickets_flight LIMIT 20;\", conn)"
      ],
      "metadata": {
        "id": "ijkvnC11bdaH"
      },
      "execution_count": null,
      "outputs": []
    },
    {
      "cell_type": "code",
      "source": [
        "pd.read_sql(\"SELECT * from seats LIMIT 20;\", conn)"
      ],
      "metadata": {
        "id": "T-_3ljQEbdtd"
      },
      "execution_count": null,
      "outputs": []
    },
    {
      "cell_type": "code",
      "source": [
        "pd.read_sql(\"SELECT * from boarding_passes  LIMIT 20;\", conn)"
      ],
      "metadata": {
        "id": "bdqf9qWxbdxa"
      },
      "execution_count": null,
      "outputs": []
    },
    {
      "cell_type": "code",
      "source": [
        "pd.read_sql(\"SELECT * from tickets  LIMIT 20;\", conn)"
      ],
      "metadata": {
        "id": "2kk1KeXAcRod"
      },
      "execution_count": null,
      "outputs": []
    },
    {
      "cell_type": "code",
      "source": [
        "pd.read_sql(\"SELECT count(flight_no) from flights WHERE status='Scheduled';\",conn)"
      ],
      "metadata": {
        "id": "klOunBPWbd1v"
      },
      "execution_count": null,
      "outputs": []
    },
    {
      "cell_type": "code",
      "source": [
        "pd.read_sql(\"SELECT count(flight_no) from flights WHERE status='Arrived';\",conn)"
      ],
      "metadata": {
        "id": "LJlcAQ7ScZHl"
      },
      "execution_count": null,
      "outputs": []
    },
    {
      "cell_type": "code",
      "source": [
        "pd.read_sql(\"SELECT count(flight_no) from flights WHERE status='cancelled';\",conn)"
      ],
      "metadata": {
        "id": "q0kCAs4VcZLM"
      },
      "execution_count": null,
      "outputs": []
    },
    {
      "cell_type": "code",
      "source": [
        "pd.read_sql(\"SELECT COUNT(seat_no) from seats WHERE fare_conditions='Business';\",conn)"
      ],
      "metadata": {
        "id": "41FhcOPhcZOj"
      },
      "execution_count": null,
      "outputs": []
    },
    {
      "cell_type": "code",
      "source": [
        "df = pd.read_sql(\"\"\"\n",
        "    SELECT\n",
        "        seat_no,\n",
        "        CASE\n",
        "            WHEN fare_conditions = 'Business' THEN 'Business'\n",
        "            WHEN fare_conditions = 'Comfort' THEN 'Comfort'\n",
        "            ELSE 'Economy'\n",
        "        END AS Category\n",
        "    FROM seats;\n",
        "\"\"\", conn)\n"
      ],
      "metadata": {
        "id": "EeXR0Ke9cZWo"
      },
      "execution_count": null,
      "outputs": []
    },
    {
      "cell_type": "code",
      "source": [
        "\n",
        "plt.figure(figsize=(8, 6))\n",
        "sns.countplot(data=df, x='Category', palette='Set2')\n",
        "\n",
        "\n",
        "plt.title('Seat Category Distribution', fontsize=16)\n",
        "plt.xlabel('Category', fontsize=12)\n",
        "plt.ylabel('Number of Seats', fontsize=12)\n",
        "\n",
        "\n",
        "plt.show()\n"
      ],
      "metadata": {
        "id": "KkyOuWMXcZaU"
      },
      "execution_count": null,
      "outputs": []
    },
    {
      "cell_type": "code",
      "source": [
        "pd.read_sql(\"SELECT flight_id, COUNT(ticket_no) AS Total_Passengers from ticket_flights Group by flight_id;\",conn)"
      ],
      "metadata": {
        "id": "iXb09M3scZeo"
      },
      "execution_count": null,
      "outputs": []
    },
    {
      "cell_type": "code",
      "source": [
        "\n",
        "df = pd.DataFrame({\n",
        "    'flight_id': [1, 5, 33117],\n",
        "    'passenger_count': [79, 93, 16]\n",
        "})\n",
        "\n",
        "plt.figure(figsize=(8, 6))\n",
        "sns.barplot(data=df, x='flight_id', y='passenger_count', palette='Blues_d')\n",
        "\n",
        "\n",
        "plt.title('Passenger Count by Flight', fontsize=16)\n",
        "plt.xlabel('Flight ID', fontsize=12)\n",
        "plt.ylabel('Passenger Count', fontsize=12)\n",
        "\n",
        "plt.show()\n"
      ],
      "metadata": {
        "id": "DIXMNLDMcZiS"
      },
      "execution_count": null,
      "outputs": []
    },
    {
      "cell_type": "code",
      "source": [
        "ticket_flights = pd.read_sql(\"\"\"\n",
        "    SELECT\n",
        "        flight_id,\n",
        "        COUNT(ticket_no) AS Total_Passengers,\n",
        "        CASE\n",
        "            WHEN COUNT(ticket_no) < 50 THEN 'Low'\n",
        "            WHEN COUNT(ticket_no) BETWEEN 50 AND 150 THEN 'Medium'\n",
        "            ELSE 'High'\n",
        "        END AS Category\n",
        "    FROM ticket_flights\n",
        "    GROUP BY flight_id;\n",
        "\"\"\", conn)\n",
        "\n",
        "print(ticket_flights.head())\n"
      ],
      "metadata": {
        "id": "cjHjaZsycZ1W"
      },
      "execution_count": null,
      "outputs": []
    },
    {
      "cell_type": "code",
      "source": [
        "plt.figure(figsize=(10, 6))\n",
        "\n",
        "# Create a bar plot\n",
        "sns.barplot(data=category_passengers, x='Category', y='Total_Passengers', palette='viridis')\n",
        "\n",
        "# Add title and labels\n",
        "plt.title('Total Passengers by Flight Category', fontsize=16)\n",
        "plt.xlabel('Passenger Category', fontsize=12)\n",
        "plt.ylabel('Total Passengers', fontsize=12)\n",
        "\n",
        "# Display the plot\n",
        "plt.show()\n"
      ],
      "metadata": {
        "id": "sKmrzizKcZ-i"
      },
      "execution_count": null,
      "outputs": []
    },
    {
      "cell_type": "code",
      "source": [
        "# Define the query\n",
        "query = \"\"\"\n",
        "    SELECT\n",
        "        status,\n",
        "        COUNT(flight_no) AS flight_count\n",
        "    FROM\n",
        "        flights\n",
        "    WHERE\n",
        "        status IN ('Scheduled', 'Cancelled', 'Arrived')\n",
        "    GROUP BY\n",
        "        status;\n",
        "\"\"\"\n",
        "\n",
        "\n",
        "flight_status_data = pd.read_sql(query, conn)\n",
        "\n",
        "plt.figure(figsize=(8, 6))\n",
        "sns.barplot(x='status', y='flight_count', data=flight_status_data, palette='Set2')\n",
        "\n",
        "\n",
        "plt.title('Flight Status Distribution', fontsize=16)\n",
        "plt.xlabel('Flight Status', fontsize=12)\n",
        "plt.ylabel('Number of Flights', fontsize=12)\n",
        "\n",
        "\n",
        "plt.show()\n"
      ],
      "metadata": {
        "id": "NeSMXtKucaCk"
      },
      "execution_count": null,
      "outputs": []
    },
    {
      "cell_type": "code",
      "source": [],
      "metadata": {
        "id": "xMQmiz9pcaJk"
      },
      "execution_count": null,
      "outputs": []
    }
  ]
}